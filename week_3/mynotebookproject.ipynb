{
 "cells": [
  {
   "cell_type": "markdown",
   "metadata": {},
   "source": [
    "# Peer-graded Assignment: Segmenting and Clustering Neighborhoods in Toronto"
   ]
  },
  {
   "cell_type": "markdown",
   "metadata": {},
   "source": [
    "## 1. Getting and cleaning the dataframe"
   ]
  },
  {
   "cell_type": "markdown",
   "metadata": {},
   "source": [
    "First we read the dataframe from the wiki page."
   ]
  },
  {
   "cell_type": "code",
   "execution_count": 101,
   "metadata": {},
   "outputs": [
    {
     "data": {
      "text/plain": [
       "3"
      ]
     },
     "execution_count": 101,
     "metadata": {},
     "output_type": "execute_result"
    }
   ],
   "source": [
    "import pandas as pd\n",
    "link = 'https://en.wikipedia.org/wiki/List_of_postal_codes_of_Canada:_M'\n",
    "\n",
    "dfs = pd.read_html(link)\n",
    "len(dfs)"
   ]
  },
  {
   "cell_type": "markdown",
   "metadata": {},
   "source": [
    "The wiki page has 3 dataframes. The first element (index 0) is our match."
   ]
  },
  {
   "cell_type": "code",
   "execution_count": 102,
   "metadata": {},
   "outputs": [
    {
     "data": {
      "text/html": [
       "<div>\n",
       "<style scoped>\n",
       "    .dataframe tbody tr th:only-of-type {\n",
       "        vertical-align: middle;\n",
       "    }\n",
       "\n",
       "    .dataframe tbody tr th {\n",
       "        vertical-align: top;\n",
       "    }\n",
       "\n",
       "    .dataframe thead th {\n",
       "        text-align: right;\n",
       "    }\n",
       "</style>\n",
       "<table border=\"1\" class=\"dataframe\">\n",
       "  <thead>\n",
       "    <tr style=\"text-align: right;\">\n",
       "      <th></th>\n",
       "      <th>Postal Code</th>\n",
       "      <th>Borough</th>\n",
       "      <th>Neighbourhood</th>\n",
       "    </tr>\n",
       "  </thead>\n",
       "  <tbody>\n",
       "    <tr>\n",
       "      <th>0</th>\n",
       "      <td>M1A</td>\n",
       "      <td>Not assigned</td>\n",
       "      <td>Not assigned</td>\n",
       "    </tr>\n",
       "    <tr>\n",
       "      <th>1</th>\n",
       "      <td>M2A</td>\n",
       "      <td>Not assigned</td>\n",
       "      <td>Not assigned</td>\n",
       "    </tr>\n",
       "    <tr>\n",
       "      <th>2</th>\n",
       "      <td>M3A</td>\n",
       "      <td>North York</td>\n",
       "      <td>Parkwoods</td>\n",
       "    </tr>\n",
       "    <tr>\n",
       "      <th>3</th>\n",
       "      <td>M4A</td>\n",
       "      <td>North York</td>\n",
       "      <td>Victoria Village</td>\n",
       "    </tr>\n",
       "    <tr>\n",
       "      <th>4</th>\n",
       "      <td>M5A</td>\n",
       "      <td>Downtown Toronto</td>\n",
       "      <td>Regent Park, Harbourfront</td>\n",
       "    </tr>\n",
       "  </tbody>\n",
       "</table>\n",
       "</div>"
      ],
      "text/plain": [
       "  Postal Code           Borough              Neighbourhood\n",
       "0         M1A      Not assigned               Not assigned\n",
       "1         M2A      Not assigned               Not assigned\n",
       "2         M3A        North York                  Parkwoods\n",
       "3         M4A        North York           Victoria Village\n",
       "4         M5A  Downtown Toronto  Regent Park, Harbourfront"
      ]
     },
     "execution_count": 102,
     "metadata": {},
     "output_type": "execute_result"
    }
   ],
   "source": [
    "df = dfs[0]\n",
    "df.head(5)"
   ]
  },
  {
   "cell_type": "markdown",
   "metadata": {},
   "source": [
    "Init shape of the dataframe is 180x3. After cleaning the 'not assigned' borough, the new dataframe size is 103x3."
   ]
  },
  {
   "cell_type": "code",
   "execution_count": 103,
   "metadata": {},
   "outputs": [
    {
     "name": "stdout",
     "output_type": "stream",
     "text": [
      "Init shape: (180, 3)\n",
      "Not assigned df shape: (77, 3)\n",
      "final shape: (103, 3)\n"
     ]
    },
    {
     "data": {
      "text/html": [
       "<div>\n",
       "<style scoped>\n",
       "    .dataframe tbody tr th:only-of-type {\n",
       "        vertical-align: middle;\n",
       "    }\n",
       "\n",
       "    .dataframe tbody tr th {\n",
       "        vertical-align: top;\n",
       "    }\n",
       "\n",
       "    .dataframe thead th {\n",
       "        text-align: right;\n",
       "    }\n",
       "</style>\n",
       "<table border=\"1\" class=\"dataframe\">\n",
       "  <thead>\n",
       "    <tr style=\"text-align: right;\">\n",
       "      <th></th>\n",
       "      <th>Postal Code</th>\n",
       "      <th>Borough</th>\n",
       "      <th>Neighbourhood</th>\n",
       "    </tr>\n",
       "  </thead>\n",
       "  <tbody>\n",
       "    <tr>\n",
       "      <th>2</th>\n",
       "      <td>M3A</td>\n",
       "      <td>North York</td>\n",
       "      <td>Parkwoods</td>\n",
       "    </tr>\n",
       "    <tr>\n",
       "      <th>3</th>\n",
       "      <td>M4A</td>\n",
       "      <td>North York</td>\n",
       "      <td>Victoria Village</td>\n",
       "    </tr>\n",
       "    <tr>\n",
       "      <th>4</th>\n",
       "      <td>M5A</td>\n",
       "      <td>Downtown Toronto</td>\n",
       "      <td>Regent Park, Harbourfront</td>\n",
       "    </tr>\n",
       "    <tr>\n",
       "      <th>5</th>\n",
       "      <td>M6A</td>\n",
       "      <td>North York</td>\n",
       "      <td>Lawrence Manor, Lawrence Heights</td>\n",
       "    </tr>\n",
       "    <tr>\n",
       "      <th>6</th>\n",
       "      <td>M7A</td>\n",
       "      <td>Downtown Toronto</td>\n",
       "      <td>Queen's Park, Ontario Provincial Government</td>\n",
       "    </tr>\n",
       "    <tr>\n",
       "      <th>...</th>\n",
       "      <td>...</td>\n",
       "      <td>...</td>\n",
       "      <td>...</td>\n",
       "    </tr>\n",
       "    <tr>\n",
       "      <th>160</th>\n",
       "      <td>M8X</td>\n",
       "      <td>Etobicoke</td>\n",
       "      <td>The Kingsway, Montgomery Road, Old Mill North</td>\n",
       "    </tr>\n",
       "    <tr>\n",
       "      <th>165</th>\n",
       "      <td>M4Y</td>\n",
       "      <td>Downtown Toronto</td>\n",
       "      <td>Church and Wellesley</td>\n",
       "    </tr>\n",
       "    <tr>\n",
       "      <th>168</th>\n",
       "      <td>M7Y</td>\n",
       "      <td>East Toronto</td>\n",
       "      <td>Business reply mail Processing Centre, South C...</td>\n",
       "    </tr>\n",
       "    <tr>\n",
       "      <th>169</th>\n",
       "      <td>M8Y</td>\n",
       "      <td>Etobicoke</td>\n",
       "      <td>Old Mill South, King's Mill Park, Sunnylea, Hu...</td>\n",
       "    </tr>\n",
       "    <tr>\n",
       "      <th>178</th>\n",
       "      <td>M8Z</td>\n",
       "      <td>Etobicoke</td>\n",
       "      <td>Mimico NW, The Queensway West, South of Bloor,...</td>\n",
       "    </tr>\n",
       "  </tbody>\n",
       "</table>\n",
       "<p>103 rows × 3 columns</p>\n",
       "</div>"
      ],
      "text/plain": [
       "    Postal Code           Borough  \\\n",
       "2           M3A        North York   \n",
       "3           M4A        North York   \n",
       "4           M5A  Downtown Toronto   \n",
       "5           M6A        North York   \n",
       "6           M7A  Downtown Toronto   \n",
       "..          ...               ...   \n",
       "160         M8X         Etobicoke   \n",
       "165         M4Y  Downtown Toronto   \n",
       "168         M7Y      East Toronto   \n",
       "169         M8Y         Etobicoke   \n",
       "178         M8Z         Etobicoke   \n",
       "\n",
       "                                         Neighbourhood  \n",
       "2                                            Parkwoods  \n",
       "3                                     Victoria Village  \n",
       "4                            Regent Park, Harbourfront  \n",
       "5                     Lawrence Manor, Lawrence Heights  \n",
       "6          Queen's Park, Ontario Provincial Government  \n",
       "..                                                 ...  \n",
       "160      The Kingsway, Montgomery Road, Old Mill North  \n",
       "165                               Church and Wellesley  \n",
       "168  Business reply mail Processing Centre, South C...  \n",
       "169  Old Mill South, King's Mill Park, Sunnylea, Hu...  \n",
       "178  Mimico NW, The Queensway West, South of Bloor,...  \n",
       "\n",
       "[103 rows x 3 columns]"
      ]
     },
     "execution_count": 103,
     "metadata": {},
     "output_type": "execute_result"
    }
   ],
   "source": [
    "print('Init shape:',df.shape)\n",
    "# df2 = dataframe of 'not assigned' borough \n",
    "df2 = df[df.Borough == 'Not assigned']\n",
    "print('Not assigned df shape:',df2.shape)\n",
    "# Drop df2 from df\n",
    "df.drop(df2.index, inplace=True)\n",
    "print('final shape:',df.shape)\n",
    "df"
   ]
  },
  {
   "cell_type": "markdown",
   "metadata": {},
   "source": [
    "We check how many cases of 'not assigned' neighbourhood are there in our cleaned dataframe. The shape is 0x3 si there is none; We can keep our previous dataframe without any more calculus."
   ]
  },
  {
   "cell_type": "code",
   "execution_count": 104,
   "metadata": {},
   "outputs": [
    {
     "name": "stdout",
     "output_type": "stream",
     "text": [
      "Shape of not assigned neighbourhood: (0, 3)\n"
     ]
    }
   ],
   "source": [
    "# Not assigned neighbourhood will be rename as their borough\n",
    "df2 = df[df.Neighbourhood == 'Not assigned']\n",
    "print(\"Shape of not assigned neighbourhood:\",df2.shape)"
   ]
  },
  {
   "cell_type": "markdown",
   "metadata": {},
   "source": [
    "We noticed before that every same postal code neighbourhood remain in the same raw, sperated by comas. No further modification are needed, the final shape is 103x3."
   ]
  },
  {
   "cell_type": "code",
   "execution_count": 105,
   "metadata": {},
   "outputs": [
    {
     "data": {
      "text/plain": [
       "(103, 3)"
      ]
     },
     "execution_count": 105,
     "metadata": {},
     "output_type": "execute_result"
    }
   ],
   "source": [
    "df.shape"
   ]
  },
  {
   "cell_type": "markdown",
   "metadata": {},
   "source": [
    "## 2. Add Latitude and Longitude to the dataframe"
   ]
  },
  {
   "cell_type": "markdown",
   "metadata": {},
   "source": [
    "We first tried to test geocoder but indeed the service was not working properly."
   ]
  },
  {
   "cell_type": "code",
   "execution_count": 106,
   "metadata": {},
   "outputs": [
    {
     "data": {
      "text/plain": [
       "'\\n# !pip install geocoder\\nimport geocoder # import geocoder\\n\\n# initialize your variable to None\\nlat_lng_coords = None\\n\\n# loop until you get the coordinates\\nwhile(lat_lng_coords is None):\\n  g = geocoder.google(\\'Los Angeles, CA\\') #geocoder.google(\\'{}, Toronto, Ontario\\'.format(M5G))\\n  lat_lng_coords = g.latlng\\n\\nlatitude = lat_lng_coords[0]\\nlongitude = lat_lng_coords[1]\\nprint(\"lat: \",latitude, \" long : \",longitude)\\n'"
      ]
     },
     "execution_count": 106,
     "metadata": {},
     "output_type": "execute_result"
    }
   ],
   "source": [
    "\"\"\"\n",
    "# !pip install geocoder\n",
    "import geocoder # import geocoder\n",
    "\n",
    "# initialize your variable to None\n",
    "lat_lng_coords = None\n",
    "\n",
    "# loop until you get the coordinates\n",
    "while(lat_lng_coords is None):\n",
    "  g = geocoder.google('Los Angeles, CA') #geocoder.google('{}, Toronto, Ontario'.format(M5G))\n",
    "  lat_lng_coords = g.latlng\n",
    "\n",
    "latitude = lat_lng_coords[0]\n",
    "longitude = lat_lng_coords[1]\n",
    "print(\"lat: \",latitude, \" long : \",longitude)\n",
    "\"\"\""
   ]
  },
  {
   "cell_type": "markdown",
   "metadata": {},
   "source": [
    "So we loaded the geospatial data file."
   ]
  },
  {
   "cell_type": "code",
   "execution_count": 107,
   "metadata": {},
   "outputs": [
    {
     "data": {
      "text/html": [
       "<div>\n",
       "<style scoped>\n",
       "    .dataframe tbody tr th:only-of-type {\n",
       "        vertical-align: middle;\n",
       "    }\n",
       "\n",
       "    .dataframe tbody tr th {\n",
       "        vertical-align: top;\n",
       "    }\n",
       "\n",
       "    .dataframe thead th {\n",
       "        text-align: right;\n",
       "    }\n",
       "</style>\n",
       "<table border=\"1\" class=\"dataframe\">\n",
       "  <thead>\n",
       "    <tr style=\"text-align: right;\">\n",
       "      <th></th>\n",
       "      <th>Postal Code</th>\n",
       "      <th>Latitude</th>\n",
       "      <th>Longitude</th>\n",
       "    </tr>\n",
       "  </thead>\n",
       "  <tbody>\n",
       "    <tr>\n",
       "      <th>0</th>\n",
       "      <td>M1B</td>\n",
       "      <td>43.806686</td>\n",
       "      <td>-79.194353</td>\n",
       "    </tr>\n",
       "    <tr>\n",
       "      <th>1</th>\n",
       "      <td>M1C</td>\n",
       "      <td>43.784535</td>\n",
       "      <td>-79.160497</td>\n",
       "    </tr>\n",
       "    <tr>\n",
       "      <th>2</th>\n",
       "      <td>M1E</td>\n",
       "      <td>43.763573</td>\n",
       "      <td>-79.188711</td>\n",
       "    </tr>\n",
       "    <tr>\n",
       "      <th>3</th>\n",
       "      <td>M1G</td>\n",
       "      <td>43.770992</td>\n",
       "      <td>-79.216917</td>\n",
       "    </tr>\n",
       "    <tr>\n",
       "      <th>4</th>\n",
       "      <td>M1H</td>\n",
       "      <td>43.773136</td>\n",
       "      <td>-79.239476</td>\n",
       "    </tr>\n",
       "  </tbody>\n",
       "</table>\n",
       "</div>"
      ],
      "text/plain": [
       "  Postal Code   Latitude  Longitude\n",
       "0         M1B  43.806686 -79.194353\n",
       "1         M1C  43.784535 -79.160497\n",
       "2         M1E  43.763573 -79.188711\n",
       "3         M1G  43.770992 -79.216917\n",
       "4         M1H  43.773136 -79.239476"
      ]
     },
     "execution_count": 107,
     "metadata": {},
     "output_type": "execute_result"
    }
   ],
   "source": [
    "link2geo = 'http://cocl.us/Geospatial_data'\n",
    "\n",
    "df_geo = pd.read_csv(link2geo)\n",
    "df_geo.head(5)"
   ]
  },
  {
   "cell_type": "markdown",
   "metadata": {},
   "source": [
    "And we merged it with our cleaning dataframe."
   ]
  },
  {
   "cell_type": "code",
   "execution_count": 108,
   "metadata": {},
   "outputs": [
    {
     "data": {
      "text/html": [
       "<div>\n",
       "<style scoped>\n",
       "    .dataframe tbody tr th:only-of-type {\n",
       "        vertical-align: middle;\n",
       "    }\n",
       "\n",
       "    .dataframe tbody tr th {\n",
       "        vertical-align: top;\n",
       "    }\n",
       "\n",
       "    .dataframe thead th {\n",
       "        text-align: right;\n",
       "    }\n",
       "</style>\n",
       "<table border=\"1\" class=\"dataframe\">\n",
       "  <thead>\n",
       "    <tr style=\"text-align: right;\">\n",
       "      <th></th>\n",
       "      <th>Postal Code</th>\n",
       "      <th>Latitude</th>\n",
       "      <th>Longitude</th>\n",
       "      <th>Borough</th>\n",
       "      <th>Neighbourhood</th>\n",
       "    </tr>\n",
       "  </thead>\n",
       "  <tbody>\n",
       "    <tr>\n",
       "      <th>0</th>\n",
       "      <td>M1B</td>\n",
       "      <td>43.806686</td>\n",
       "      <td>-79.194353</td>\n",
       "      <td>Scarborough</td>\n",
       "      <td>Malvern, Rouge</td>\n",
       "    </tr>\n",
       "    <tr>\n",
       "      <th>1</th>\n",
       "      <td>M1C</td>\n",
       "      <td>43.784535</td>\n",
       "      <td>-79.160497</td>\n",
       "      <td>Scarborough</td>\n",
       "      <td>Rouge Hill, Port Union, Highland Creek</td>\n",
       "    </tr>\n",
       "    <tr>\n",
       "      <th>2</th>\n",
       "      <td>M1E</td>\n",
       "      <td>43.763573</td>\n",
       "      <td>-79.188711</td>\n",
       "      <td>Scarborough</td>\n",
       "      <td>Guildwood, Morningside, West Hill</td>\n",
       "    </tr>\n",
       "    <tr>\n",
       "      <th>3</th>\n",
       "      <td>M1G</td>\n",
       "      <td>43.770992</td>\n",
       "      <td>-79.216917</td>\n",
       "      <td>Scarborough</td>\n",
       "      <td>Woburn</td>\n",
       "    </tr>\n",
       "    <tr>\n",
       "      <th>4</th>\n",
       "      <td>M1H</td>\n",
       "      <td>43.773136</td>\n",
       "      <td>-79.239476</td>\n",
       "      <td>Scarborough</td>\n",
       "      <td>Cedarbrae</td>\n",
       "    </tr>\n",
       "  </tbody>\n",
       "</table>\n",
       "</div>"
      ],
      "text/plain": [
       "  Postal Code   Latitude  Longitude      Borough  \\\n",
       "0         M1B  43.806686 -79.194353  Scarborough   \n",
       "1         M1C  43.784535 -79.160497  Scarborough   \n",
       "2         M1E  43.763573 -79.188711  Scarborough   \n",
       "3         M1G  43.770992 -79.216917  Scarborough   \n",
       "4         M1H  43.773136 -79.239476  Scarborough   \n",
       "\n",
       "                            Neighbourhood  \n",
       "0                          Malvern, Rouge  \n",
       "1  Rouge Hill, Port Union, Highland Creek  \n",
       "2       Guildwood, Morningside, West Hill  \n",
       "3                                  Woburn  \n",
       "4                               Cedarbrae  "
      ]
     },
     "execution_count": 108,
     "metadata": {},
     "output_type": "execute_result"
    }
   ],
   "source": [
    "df = pd.merge(df_geo, df, on='Postal Code')\n",
    "df.head(5)"
   ]
  },
  {
   "cell_type": "markdown",
   "metadata": {},
   "source": [
    "Then we re arrange the columns to make it look like what we want."
   ]
  },
  {
   "cell_type": "code",
   "execution_count": 109,
   "metadata": {},
   "outputs": [
    {
     "data": {
      "text/html": [
       "<div>\n",
       "<style scoped>\n",
       "    .dataframe tbody tr th:only-of-type {\n",
       "        vertical-align: middle;\n",
       "    }\n",
       "\n",
       "    .dataframe tbody tr th {\n",
       "        vertical-align: top;\n",
       "    }\n",
       "\n",
       "    .dataframe thead th {\n",
       "        text-align: right;\n",
       "    }\n",
       "</style>\n",
       "<table border=\"1\" class=\"dataframe\">\n",
       "  <thead>\n",
       "    <tr style=\"text-align: right;\">\n",
       "      <th></th>\n",
       "      <th>Postal Code</th>\n",
       "      <th>Borough</th>\n",
       "      <th>Neighbourhood</th>\n",
       "      <th>Latitude</th>\n",
       "      <th>Longitude</th>\n",
       "    </tr>\n",
       "  </thead>\n",
       "  <tbody>\n",
       "    <tr>\n",
       "      <th>0</th>\n",
       "      <td>M1B</td>\n",
       "      <td>Scarborough</td>\n",
       "      <td>Malvern, Rouge</td>\n",
       "      <td>43.806686</td>\n",
       "      <td>-79.194353</td>\n",
       "    </tr>\n",
       "    <tr>\n",
       "      <th>1</th>\n",
       "      <td>M1C</td>\n",
       "      <td>Scarborough</td>\n",
       "      <td>Rouge Hill, Port Union, Highland Creek</td>\n",
       "      <td>43.784535</td>\n",
       "      <td>-79.160497</td>\n",
       "    </tr>\n",
       "    <tr>\n",
       "      <th>2</th>\n",
       "      <td>M1E</td>\n",
       "      <td>Scarborough</td>\n",
       "      <td>Guildwood, Morningside, West Hill</td>\n",
       "      <td>43.763573</td>\n",
       "      <td>-79.188711</td>\n",
       "    </tr>\n",
       "    <tr>\n",
       "      <th>3</th>\n",
       "      <td>M1G</td>\n",
       "      <td>Scarborough</td>\n",
       "      <td>Woburn</td>\n",
       "      <td>43.770992</td>\n",
       "      <td>-79.216917</td>\n",
       "    </tr>\n",
       "    <tr>\n",
       "      <th>4</th>\n",
       "      <td>M1H</td>\n",
       "      <td>Scarborough</td>\n",
       "      <td>Cedarbrae</td>\n",
       "      <td>43.773136</td>\n",
       "      <td>-79.239476</td>\n",
       "    </tr>\n",
       "  </tbody>\n",
       "</table>\n",
       "</div>"
      ],
      "text/plain": [
       "  Postal Code      Borough                           Neighbourhood   Latitude  \\\n",
       "0         M1B  Scarborough                          Malvern, Rouge  43.806686   \n",
       "1         M1C  Scarborough  Rouge Hill, Port Union, Highland Creek  43.784535   \n",
       "2         M1E  Scarborough       Guildwood, Morningside, West Hill  43.763573   \n",
       "3         M1G  Scarborough                                  Woburn  43.770992   \n",
       "4         M1H  Scarborough                               Cedarbrae  43.773136   \n",
       "\n",
       "   Longitude  \n",
       "0 -79.194353  \n",
       "1 -79.160497  \n",
       "2 -79.188711  \n",
       "3 -79.216917  \n",
       "4 -79.239476  "
      ]
     },
     "execution_count": 109,
     "metadata": {},
     "output_type": "execute_result"
    }
   ],
   "source": [
    "df = df[['Postal Code', 'Borough', 'Neighbourhood', 'Latitude', 'Longitude']]\n",
    "df.head(5)"
   ]
  },
  {
   "cell_type": "markdown",
   "metadata": {},
   "source": [
    "## 3. Generating a map"
   ]
  },
  {
   "cell_type": "markdown",
   "metadata": {},
   "source": [
    "First we get Toronto latitude and longitude."
   ]
  },
  {
   "cell_type": "code",
   "execution_count": 110,
   "metadata": {},
   "outputs": [
    {
     "name": "stdout",
     "output_type": "stream",
     "text": [
      "The geograpical coordinate of Toronto are 43.6534817, -79.3839347.\n"
     ]
    }
   ],
   "source": [
    "#!pip install geopy\n",
    "from geopy.geocoders import Nominatim\n",
    "\n",
    "address = 'Toronto, ON'\n",
    "geolocator = Nominatim(user_agent=\"toronto_explorer\")\n",
    "location = geolocator.geocode(address)\n",
    "latitude = location.latitude\n",
    "longitude = location.longitude\n",
    "print('The geograpical coordinate of Toronto are {}, {}.'.format(latitude, longitude))"
   ]
  },
  {
   "cell_type": "markdown",
   "metadata": {},
   "source": [
    "Finally we add our neighbourhoods data to the map and we display the map !"
   ]
  },
  {
   "cell_type": "code",
   "execution_count": 116,
   "metadata": {},
   "outputs": [
    {
     "data": {
      "text/html": [
       "<div style=\"width:100%;\"><div style=\"position:relative;width:100%;height:0;padding-bottom:60%;\"><span style=\"color:#565656\">Make this Notebook Trusted to load map: File -> Trust Notebook</span><iframe src=\"about:blank\" style=\"position:absolute;width:100%;height:100%;left:0;top:0;border:none !important;\" data-html=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 onload=\"this.contentDocument.open();this.contentDocument.write(atob(this.getAttribute('data-html')));this.contentDocument.close();\" allowfullscreen webkitallowfullscreen mozallowfullscreen></iframe></div></div>"
      ],
      "text/plain": [
       "<folium.folium.Map at 0x286650dfa88>"
      ]
     },
     "execution_count": 116,
     "metadata": {},
     "output_type": "execute_result"
    }
   ],
   "source": [
    "#!pip install folium\n",
    "import folium\n",
    "\n",
    "# create map of Totonto using latitude and longitude values\n",
    "map_toronto = folium.Map(location=[latitude, longitude], zoom_start=11)\n",
    "\n",
    "# add markers to map\n",
    "for lat, lng, label in zip(df['Latitude'], df['Longitude'], df['Neighbourhood']):\n",
    "    label = folium.Popup(label, parse_html=True)\n",
    "    folium.CircleMarker(\n",
    "        [lat, lng],\n",
    "        radius=5,\n",
    "        popup=label,\n",
    "        color='blue',\n",
    "        fill=True,\n",
    "        fill_color='#3186cc',\n",
    "        fill_opacity=0.7,\n",
    "        parse_html=False).add_to(map_toronto)  \n",
    "\n",
    "    \n",
    "map_toronto"
   ]
  },
  {
   "cell_type": "code",
   "execution_count": null,
   "metadata": {},
   "outputs": [],
   "source": []
  }
 ],
 "metadata": {
  "kernelspec": {
   "display_name": "Python 3",
   "language": "python",
   "name": "python3"
  },
  "language_info": {
   "codemirror_mode": {
    "name": "ipython",
    "version": 3
   },
   "file_extension": ".py",
   "mimetype": "text/x-python",
   "name": "python",
   "nbconvert_exporter": "python",
   "pygments_lexer": "ipython3",
   "version": "3.7.6"
  }
 },
 "nbformat": 4,
 "nbformat_minor": 4
}
