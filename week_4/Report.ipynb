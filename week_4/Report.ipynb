{
 "cells": [
  {
   "cell_type": "markdown",
   "metadata": {},
   "source": [
    "# Finding the Frenchest borough in Montreal"
   ]
  },
  {
   "cell_type": "markdown",
   "metadata": {},
   "source": [
    "## Introduction/ Business Problem"
   ]
  },
  {
   "cell_type": "markdown",
   "metadata": {},
   "source": [
    "\n",
    "I am French and I am living in Paris. One of my current objective is to work at Montreal, a city of Quebec in Eastern Canada. The Quebec region is known to be influenced by both the French and the North American culture.\n",
    "\n",
    "I want to know which borough of Montreal is the \"Frenchest\" and which one has more similarity to Paris, capital of France. It will allows me to target people interested in Business based on French product.\n",
    "To find it, I suppose I can compare every borough of Montreal with an average borough of Paris. The one the closest to the average Paris would be my ideal place.\n",
    "\n",
    "But what can I use for the comparison? I am chosing the trending places as it represents the most popular places of a borough.\n",
    "\n",
    "\n",
    "**So here is my business problem: \n",
    "Finding the Frenchest borough in Montreal comparing trending places from Paris to the ones from Montreal.**\n",
    "***"
   ]
  },
  {
   "cell_type": "markdown",
   "metadata": {},
   "source": [
    "## Data Section"
   ]
  },
  {
   "cell_type": "markdown",
   "metadata": {},
   "source": [
    "First I need to specify how I will proceed for this project.\n",
    "\n",
    "1. Finding the top 10 trending places categories in every borough of Paris and calculating the average top 10 categories.\n",
    "2. Comparing our top 10 Paris with the top 5 trending places categories of every borough in Montreal and calculating the similarities for each (number of hits).\n",
    "3. Resulting to a specific brough of Montreal.\n",
    "\n",
    "So our data requirements are:\n",
    "- List of Paris boroughs : https://fr.wikipedia.org/wiki/Arrondissements_de_Paris\n",
    "- List of Montreal boroughs : https://en.wikipedia.org/wiki/Boroughs_of_Montreal\n",
    "- geocoder google coordinates of each boroughs. If not working, using a handmade data file.\n",
    "- Foursquare  : Explore trending venues in each boroughs. \n"
   ]
  },
  {
   "cell_type": "code",
   "execution_count": null,
   "metadata": {},
   "outputs": [],
   "source": []
  }
 ],
 "metadata": {
  "kernelspec": {
   "display_name": "Python",
   "language": "python",
   "name": "conda-env-python-py"
  },
  "language_info": {
   "codemirror_mode": {
    "name": "ipython",
    "version": 3
   },
   "file_extension": ".py",
   "mimetype": "text/x-python",
   "name": "python",
   "nbconvert_exporter": "python",
   "pygments_lexer": "ipython3",
   "version": "3.6.11"
  }
 },
 "nbformat": 4,
 "nbformat_minor": 4
}
